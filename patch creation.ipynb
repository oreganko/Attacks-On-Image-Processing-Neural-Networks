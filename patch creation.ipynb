{
 "cells": [
  {
   "cell_type": "code",
   "execution_count": 1,
   "id": "rotary-lexington",
   "metadata": {},
   "outputs": [],
   "source": [
    "from PIL import Image, ImageDraw, ImageFilter\n",
    "from math import sqrt\n",
    "import random\n",
    "import numpy as np"
   ]
  },
  {
   "cell_type": "code",
   "execution_count": 2,
   "id": "incorporated-picnic",
   "metadata": {},
   "outputs": [],
   "source": [
    "# AGH logo patch"
   ]
  },
  {
   "cell_type": "code",
   "execution_count": 3,
   "id": "latest-fleet",
   "metadata": {},
   "outputs": [],
   "source": [
    "logo_path = './AGH.png'"
   ]
  },
  {
   "cell_type": "code",
   "execution_count": 4,
   "id": "greek-princess",
   "metadata": {},
   "outputs": [],
   "source": [
    "test_image_path = './dataset/Test/00002.png'"
   ]
  },
  {
   "cell_type": "code",
   "execution_count": 5,
   "id": "funded-anime",
   "metadata": {},
   "outputs": [],
   "source": [
    "#\n",
    "#    layout is (float, float), which shows in which part of dimension should image start\n",
    "#\n",
    "\n",
    "def load_full_logo(prev_image: Image, area: float, opacity: float, layout: (float, float), rotation: int):\n",
    "    size = prev_image.size\n",
    "    prev_image = prev_image.convert(\"RGBA\")\n",
    "    logo = load_logo(size)\n",
    "    logo = change_layout(logo, area, rotation)\n",
    "    fin_layout = [int(size_d * layout_d) for size_d, layout_d in zip(size, layout)]\n",
    "\n",
    "    # create pasting mask\n",
    "    mask_im = Image.new(\"L\", size, 0)\n",
    "    fn = lambda x : int(opacity * 255) if x > 0 else 0\n",
    "    logo_mask = logo.convert(\"L\").point(fn, mode='L')\n",
    "    mask_im.paste(logo_mask, box=fin_layout)\n",
    "    \n",
    "    # create image to paste with mask\n",
    "    to_paste = Image.new(\"RGBA\", size, 0)\n",
    "    to_paste.paste(logo, box=fin_layout)\n",
    "\n",
    "    prev_image.paste(to_paste, mask=mask_im)\n",
    "    \n",
    "    prev_image.save('new_img.png', save_all=True)\n",
    "    display(prev_image)"
   ]
  },
  {
   "cell_type": "code",
   "execution_count": 6,
   "id": "residential-freeware",
   "metadata": {},
   "outputs": [],
   "source": [
    "def load_logo(size: [int, int]):\n",
    "    return Image.open(logo_path).resize(size).convert(\"RGBA\")"
   ]
  },
  {
   "cell_type": "code",
   "execution_count": 7,
   "id": "retained-furniture",
   "metadata": {},
   "outputs": [],
   "source": [
    "def change_layout(image, area = 1.0, rotation = 0):\n",
    "    size = [int(dim * sqrt(area)) for dim in image.size]\n",
    "    image = image.resize(size).rotate(rotation)\n",
    "    \n",
    "    return image"
   ]
  },
  {
   "cell_type": "code",
   "execution_count": 8,
   "id": "velvet-circus",
   "metadata": {},
   "outputs": [],
   "source": [
    "image = Image.open(test_image_path)"
   ]
  },
  {
   "cell_type": "code",
   "execution_count": 9,
   "id": "martial-painting",
   "metadata": {},
   "outputs": [
    {
     "data": {
      "text/plain": [
       "(48, 52)"
      ]
     },
     "execution_count": 9,
     "metadata": {},
     "output_type": "execute_result"
    }
   ],
   "source": [
    "image.size"
   ]
  },
  {
   "cell_type": "code",
   "execution_count": 10,
   "id": "civilian-short",
   "metadata": {},
   "outputs": [
    {
     "data": {
      "image/png": "[encoded data removed]",
      "text/plain": [
       "<PIL.Image.Image image mode=RGBA size=48x52>"
      ]
     },
     "metadata": {},
     "output_type": "display_data"
    }
   ],
   "source": [
    "load_full_logo(image, 0.1, 1, [0.3,0.1], 30)"
   ]
  },
  {
   "cell_type": "code",
   "execution_count": 11,
   "id": "located-guard",
   "metadata": {},
   "outputs": [
    {
     "data": {
      "image/png": "[encoded data removed]",
      "text/plain": [
       "<PIL.Image.Image image mode=RGBA size=48x52>"
      ]
     },
     "metadata": {},
     "output_type": "display_data"
    }
   ],
   "source": [
    "load_full_logo(image, 0.5, 0.1, [0,0], 0)"
   ]
  },
  {
   "cell_type": "code",
   "execution_count": null,
   "id": "seasonal-heath",
   "metadata": {},
   "outputs": [],
   "source": []
  },
  {
   "cell_type": "markdown",
   "id": "normal-interface",
   "metadata": {},
   "source": [
    "# Chess like pattern"
   ]
  },
  {
   "cell_type": "code",
   "execution_count": 12,
   "id": "intellectual-greensboro",
   "metadata": {},
   "outputs": [],
   "source": [
    "def load_chess_pattern(prev_image: Image, opacity: float, layout: (float, float)):\n",
    "    size = prev_image.size\n",
    "    prev_image = prev_image.convert(\"RGBA\")\n",
    "    \n",
    "    mask = Image.new(\"L\", size, 0)\n",
    "    draw = ImageDraw.Draw(mask)\n",
    "    for x in range(int(layout[0] * size[0]), size[0], 2):\n",
    "        for y in range(int(layout[1] * size[1]), size[1], 2):\n",
    "            draw.point((x, y), fill=255)\n",
    "            \n",
    "    prev_image1 = prev_image.copy()\n",
    "    prev_image1.putalpha(int(opacity * 255))\n",
    "    prev_image.paste(prev_image1, mask=mask)\n",
    "    display(mask)\n",
    "    \n",
    "    prev_image.save('new_img.png', save_all=True)\n",
    "    display(prev_image)"
   ]
  },
  {
   "cell_type": "code",
   "execution_count": 13,
   "id": "extra-validity",
   "metadata": {},
   "outputs": [],
   "source": [
    "image = Image.open(test_image_path)"
   ]
  },
  {
   "cell_type": "code",
   "execution_count": 14,
   "id": "portuguese-potential",
   "metadata": {},
   "outputs": [
    {
     "data": {
      "image/png": "[encoded data removed]",
      "text/plain": [
       "<PIL.Image.Image image mode=L size=48x52>"
      ]
     },
     "metadata": {},
     "output_type": "display_data"
    },
    {
     "data": {
      "image/png": "[encoded data removed]",
      "text/plain": [
       "<PIL.Image.Image image mode=RGBA size=48x52>"
      ]
     },
     "metadata": {},
     "output_type": "display_data"
    }
   ],
   "source": [
    "load_chess_pattern(image, 0.9, (0.3,0.3))"
   ]
  },
  {
   "cell_type": "markdown",
   "id": "excited-mongolia",
   "metadata": {},
   "source": [
    "# Random pixels pattern "
   ]
  },
  {
   "cell_type": "code",
   "execution_count": 15,
   "id": "phantom-external",
   "metadata": {},
   "outputs": [],
   "source": [
    "def get_random_pixels(pixels_no: int, size: (int, int)):\n",
    "    pixels = []\n",
    "    for i in range(pixels_no):\n",
    "        x = int(random.random() * size[0])\n",
    "        y = int(random.random() * size[1])\n",
    "        pixels.append((x, y))\n",
    "    return pixels"
   ]
  },
  {
   "cell_type": "code",
   "execution_count": 16,
   "id": "pacific-rachel",
   "metadata": {},
   "outputs": [],
   "source": [
    "def load_random_pattern(prev_image: Image, pixels: int, opacity: float):\n",
    "    size = prev_image.size\n",
    "    prev_image = prev_image.convert(\"RGBA\")\n",
    "    \n",
    "    mask = Image.new(\"L\", size, 0)\n",
    "    draw = ImageDraw.Draw(mask)\n",
    "    pixels = get_random_pixels(pixels, size)\n",
    "    for x, y in pixels:\n",
    "        draw.point((x, y), fill=255)\n",
    "            \n",
    "    prev_image1 = prev_image.copy()\n",
    "    prev_image1.putalpha(int(opacity * 255))\n",
    "    prev_image.paste(prev_image1, mask=mask)\n",
    "    display(mask)\n",
    "    \n",
    "    prev_image.save('new_img.png', save_all=True)\n",
    "    display(prev_image)"
   ]
  },
  {
   "cell_type": "code",
   "execution_count": 17,
   "id": "attended-helicopter",
   "metadata": {},
   "outputs": [
    {
     "data": {
      "image/png": "[encoded data removed]",
      "text/plain": [
       "<PIL.Image.Image image mode=L size=48x52>"
      ]
     },
     "metadata": {},
     "output_type": "display_data"
    },
    {
     "data": {
      "image/png": "[encoded data removed]",
      "text/plain": [
       "<PIL.Image.Image image mode=RGBA size=48x52>"
      ]
     },
     "metadata": {},
     "output_type": "display_data"
    }
   ],
   "source": [
    "image = Image.open(test_image_path)\n",
    "load_random_pattern(image, 3, 0.5)"
   ]
  },
  {
   "cell_type": "markdown",
   "id": "afraid-external",
   "metadata": {},
   "source": [
    "# Gradient"
   ]
  },
  {
   "cell_type": "code",
   "execution_count": 22,
   "id": "accomplished-victim",
   "metadata": {},
   "outputs": [],
   "source": [
    "def get_gradient_2d(start, stop, width, height, is_horizontal):\n",
    "    if is_horizontal:\n",
    "        return np.tile(np.linspace(start, stop, width), (height, 1))\n",
    "    else:\n",
    "        return np.tile(np.linspace(start, stop, height), (width, 1)).T"
   ]
  },
  {
   "cell_type": "code",
   "execution_count": 23,
   "id": "municipal-virtue",
   "metadata": {},
   "outputs": [],
   "source": [
    "def get_gradient_3d(width, height, start_list, stop_list, is_horizontal_list):\n",
    "    result = np.zeros((height, width, len(start_list)), dtype=float)\n",
    "    \n",
    "\n",
    "    for i, (start, stop, is_horizontal) in enumerate(zip(start_list, stop_list, is_horizontal_list)):\n",
    "        result[:, :, i] = get_gradient_2d(start, stop, width, height, is_horizontal)\n",
    "\n",
    "    return result"
   ]
  },
  {
   "cell_type": "code",
   "execution_count": 24,
   "id": "premier-makeup",
   "metadata": {},
   "outputs": [],
   "source": [
    "def get_gradient_mask(size, start_color, end_color, horizontal=True):\n",
    "    array = get_gradient_3d(size[0], size[1], (start_color,) * 3, (end_color,) * 3, (horizontal,) * 3)\n",
    "    im = Image.fromarray(np.uint8(array))\n",
    "    return im.convert(\"L\")"
   ]
  },
  {
   "cell_type": "code",
   "execution_count": 25,
   "id": "married-russian",
   "metadata": {},
   "outputs": [],
   "source": [
    "def load_gradient(prev_image: Image, start_color, end_color, horizontal=True):\n",
    "    size = prev_image.size\n",
    "    prev_image = prev_image.convert(\"RGBA\")\n",
    "    \n",
    "    mask = get_gradient_mask(size, start_color, end_color, horizontal)\n",
    "    display(mask)\n",
    "            \n",
    "    prev_image1 = prev_image.copy()\n",
    "    prev_image1.putalpha(0)\n",
    "    display(prev_image)\n",
    "    display(prev_image1)\n",
    "    prev_image.paste(prev_image1, mask=mask)\n",
    "    \n",
    "    \n",
    "    prev_image.save('new_img.png', save_all=True)\n",
    "    display(prev_image)"
   ]
  },
  {
   "cell_type": "code",
   "execution_count": 26,
   "id": "infectious-bench",
   "metadata": {},
   "outputs": [
    {
     "data": {
      "image/png": "[encoded data removed]",
      "text/plain": [
       "<PIL.Image.Image image mode=L size=48x52>"
      ]
     },
     "metadata": {},
     "output_type": "display_data"
    },
    {
     "data": {
      "image/png": "[encoded data removed]",
      "text/plain": [
       "<PIL.Image.Image image mode=RGBA size=48x52>"
      ]
     },
     "metadata": {},
     "output_type": "display_data"
    },
    {
     "data": {
      "image/png": "[encoded data removed]",
      "text/plain": [
       "<PIL.Image.Image image mode=RGBA size=48x52>"
      ]
     },
     "metadata": {},
     "output_type": "display_data"
    },
    {
     "data": {
      "image/png": "[encoded data removed]",
      "text/plain": [
       "<PIL.Image.Image image mode=RGBA size=48x52>"
      ]
     },
     "metadata": {},
     "output_type": "display_data"
    }
   ],
   "source": [
    "image = Image.open(test_image_path)\n",
    "load_gradient(image, 0, 100)"
   ]
  },
  {
   "cell_type": "code",
   "execution_count": null,
   "id": "empirical-sound",
   "metadata": {},
   "outputs": [],
   "source": []
  },
  {
   "cell_type": "code",
   "execution_count": null,
   "id": "reasonable-corner",
   "metadata": {},
   "outputs": [],
   "source": []
  },
  {
   "cell_type": "code",
   "execution_count": null,
   "id": "aquatic-battlefield",
   "metadata": {},
   "outputs": [],
   "source": []
  }
 ],
 "metadata": {
  "kernelspec": {
   "display_name": "Python 3",
   "language": "python",
   "name": "python3"
  },
  "language_info": {
   "codemirror_mode": {
    "name": "ipython",
    "version": 3
   },
   "file_extension": ".py",
   "mimetype": "text/x-python",
   "name": "python",
   "nbconvert_exporter": "python",
   "pygments_lexer": "ipython3",
   "version": "3.8.13"
  }
 },
 "nbformat": 4,
 "nbformat_minor": 5
}

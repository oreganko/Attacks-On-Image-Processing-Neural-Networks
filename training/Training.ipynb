{
 "cells": [
  {
   "cell_type": "code",
   "execution_count": null,
   "id": "moderate-forty",
   "metadata": {},
   "outputs": [],
   "source": [
    "from utils import load_dataset\n",
    "from constants import *\n",
    "import torch\n",
    "from torchvision import models\n",
    "import torch.nn as nn\n",
    "import torch.optim as optim\n",
    "from torch.optim import lr_scheduler\n",
    "from utils import get_train_split_sizes, set_parameter_requires_grad, show_history\n",
    "from training import train_model, visualize_model, test"
   ]
  },
  {
   "cell_type": "code",
   "execution_count": null,
   "id": "fifteen-david",
   "metadata": {},
   "outputs": [],
   "source": [
    "gpu = torch.cuda.is_available()\n",
    "device = torch.device(\"cuda:0\" if gpu else \"cpu\")"
   ]
  },
  {
   "cell_type": "code",
   "execution_count": null,
   "id": "tough-spare",
   "metadata": {},
   "outputs": [],
   "source": [
    "dataloaders, image_datasets = load_dataset(IMG_SIZE, train_dir, test_dir,\n",
    "                                               batch_size=BATCH_SIZE, val_size=VAL_SIZE,\n",
    "                                               pin_memory=gpu)\n",
    "\n",
    "train_size, val_size = get_train_split_sizes(image_datasets, VAL_SIZE)\n",
    "\n",
    "dataset_sizes = {\n",
    "    'test': len(image_datasets['test']),\n",
    "    'train': train_size,\n",
    "    'val': val_size\n",
    "                }"
   ]
  },
  {
   "cell_type": "code",
   "execution_count": null,
   "id": "divided-curve",
   "metadata": {},
   "outputs": [],
   "source": [
    "print(f'Dataset sizes: {dataset_sizes}')"
   ]
  },
  {
   "cell_type": "code",
   "execution_count": null,
   "id": "liable-commerce",
   "metadata": {},
   "outputs": [],
   "source": [
    "TRAIN_EPOCHS = 5\n",
    "FINETUNE_EPOCHS = 15"
   ]
  },
  {
   "cell_type": "markdown",
   "id": "centered-matthew",
   "metadata": {},
   "source": [
    "# Resnet"
   ]
  },
  {
   "cell_type": "code",
   "execution_count": null,
   "id": "boxed-brook",
   "metadata": {},
   "outputs": [],
   "source": [
    "model_name = Models.RESNET.value[0]\n",
    "model_path = MODELS_PATH(model_name)\n",
    "plots_dir = plots_dir(model_name)"
   ]
  },
  {
   "cell_type": "code",
   "execution_count": null,
   "id": "rural-desire",
   "metadata": {},
   "outputs": [],
   "source": [
    "model_ft = models.resnet18(pretrained=True)\n",
    "num_ftrs = model_ft.fc.in_features\n",
    "model_ft = set_parameter_requires_grad(model_ft, True)\n",
    "model_ft.fc = torch.nn.Linear(num_ftrs, class_no)\n",
    "model_ft = model_ft.to(device)"
   ]
  },
  {
   "cell_type": "code",
   "execution_count": null,
   "id": "associate-sandwich",
   "metadata": {},
   "outputs": [],
   "source": [
    "criterion = nn.CrossEntropyLoss()\n",
    "\n",
    "# Observe that all parameters are being optimized\n",
    "optimizer_ft = optim.SGD(model_ft.parameters(), lr=0.001, momentum=0.9)\n",
    "\n",
    "# Decay LR by a factor of 0.1 every 7 epochs\n",
    "exp_lr_scheduler = lr_scheduler.StepLR(optimizer_ft, step_size=7, gamma=0.1)"
   ]
  },
  {
   "cell_type": "code",
   "execution_count": null,
   "id": "consecutive-medicare",
   "metadata": {},
   "outputs": [],
   "source": [
    "test(model_ft, dataloaders, device, criterion)"
   ]
  },
  {
   "cell_type": "markdown",
   "id": "affected-wound",
   "metadata": {},
   "source": [
    "## Feature extracting"
   ]
  },
  {
   "cell_type": "code",
   "execution_count": null,
   "id": "impressed-transsexual",
   "metadata": {},
   "outputs": [],
   "source": [
    "model_ft, tr_history = train_model(model_ft, criterion, optimizer_ft, exp_lr_scheduler,\n",
    "                       dataloaders, device, dataset_sizes,\n",
    "                       num_epochs=TRAIN_EPOCHS, early_stopping_ep=3)"
   ]
  },
  {
   "cell_type": "code",
   "execution_count": null,
   "id": "confirmed-gnome",
   "metadata": {},
   "outputs": [],
   "source": [
    "test(model_ft, dataloaders, device, criterion)"
   ]
  },
  {
   "cell_type": "code",
   "execution_count": null,
   "id": "outdoor-history",
   "metadata": {},
   "outputs": [],
   "source": [
    "torch.save(model_ft.state_dict(), model_path + '_extracted')"
   ]
  },
  {
   "cell_type": "code",
   "execution_count": null,
   "id": "rolled-adobe",
   "metadata": {},
   "outputs": [],
   "source": [
    "show_history(tr_history, 'Training history', os.path.join(plots_dir, 'training_history.jpg'))"
   ]
  },
  {
   "cell_type": "markdown",
   "id": "changing-omaha",
   "metadata": {},
   "source": [
    "## Finetuning"
   ]
  },
  {
   "cell_type": "code",
   "execution_count": null,
   "id": "decreased-regression",
   "metadata": {},
   "outputs": [],
   "source": [
    "model_ft = set_parameter_requires_grad(model_ft, False)"
   ]
  },
  {
   "cell_type": "code",
   "execution_count": null,
   "id": "coral-archive",
   "metadata": {},
   "outputs": [],
   "source": [
    "model_ft, ft_history = train_model(model_ft, criterion, optimizer_ft, exp_lr_scheduler,\n",
    "                       dataloaders, device, dataset_sizes,\n",
    "                       num_epochs=FINETUNE_EPOCHS, early_stopping_ep=3)"
   ]
  },
  {
   "cell_type": "code",
   "execution_count": null,
   "id": "dying-observer",
   "metadata": {},
   "outputs": [],
   "source": [
    "test(model_ft, dataloaders, device, criterion)"
   ]
  },
  {
   "cell_type": "code",
   "execution_count": null,
   "id": "primary-sample",
   "metadata": {},
   "outputs": [],
   "source": [
    "torch.save(model_ft.state_dict(), model_path + '_finetuned')"
   ]
  },
  {
   "cell_type": "code",
   "execution_count": null,
   "id": "missing-saudi",
   "metadata": {},
   "outputs": [],
   "source": [
    "show_history(ft_history, 'Finetuning history', os.path.join(plots_dir, 'finetuning_history.jpg'))"
   ]
  },
  {
   "cell_type": "code",
   "execution_count": null,
   "id": "burning-intro",
   "metadata": {},
   "outputs": [],
   "source": [
    "full_history = [key: tr_history[key] + ft_history[key] for key in tr_history.keys()]"
   ]
  },
  {
   "cell_type": "code",
   "execution_count": null,
   "id": "crazy-luther",
   "metadata": {},
   "outputs": [],
   "source": [
    "show_history(full_history, 'Whole training history', os.path.join(plots_dir, 'full_history.jpg'))"
   ]
  },
  {
   "cell_type": "code",
   "execution_count": null,
   "id": "fallen-impact",
   "metadata": {},
   "outputs": [],
   "source": []
  },
  {
   "cell_type": "code",
   "execution_count": null,
   "id": "herbal-shopper",
   "metadata": {},
   "outputs": [],
   "source": []
  }
 ],
 "metadata": {
  "kernelspec": {
   "display_name": "Python 3",
   "language": "python",
   "name": "python3"
  },
  "language_info": {
   "codemirror_mode": {
    "name": "ipython",
    "version": 3
   },
   "file_extension": ".py",
   "mimetype": "text/x-python",
   "name": "python",
   "nbconvert_exporter": "python",
   "pygments_lexer": "ipython3",
   "version": "3.9.1"
  }
 },
 "nbformat": 4,
 "nbformat_minor": 5
}

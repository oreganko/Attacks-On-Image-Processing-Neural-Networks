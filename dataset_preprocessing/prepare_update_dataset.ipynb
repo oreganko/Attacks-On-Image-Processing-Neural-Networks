{
 "cells": [
  {
   "cell_type": "code",
   "execution_count": 5,
   "id": "acknowledged-delta",
   "metadata": {},
   "outputs": [],
   "source": [
    "from patches.patch_utils import get_poisoned_no, save_image, load_image\n",
    "from patches.agh_patch import get_mask, merge_image_and_mask\n",
    "\n",
    "from constants import update_dir, PATCHED_DS_PATH\n",
    "import os\n",
    "import random\n",
    "from shutil import copy"
   ]
  },
  {
   "cell_type": "code",
   "execution_count": 6,
   "id": "mechanical-ultimate",
   "metadata": {},
   "outputs": [],
   "source": [
    "poisoned_part = 0.2"
   ]
  },
  {
   "cell_type": "code",
   "execution_count": 7,
   "id": "administrative-potential",
   "metadata": {},
   "outputs": [],
   "source": [
    "patch_name = 'agh_logo_full_visible/' + str(int(poisoned_part * 100))\n",
    "patch_dir = os.path.join(PATCHED_DS_PATH, patch_name)\n",
    "os.makedirs(patch_dir, exist_ok=True)"
   ]
  },
  {
   "cell_type": "code",
   "execution_count": 8,
   "id": "encouraging-banking",
   "metadata": {},
   "outputs": [],
   "source": [
    "src_class = '1' # if None - all classes are src class\n",
    "target_class = '39'"
   ]
  },
  {
   "cell_type": "code",
   "execution_count": 12,
   "id": "wrapped-yesterday",
   "metadata": {},
   "outputs": [],
   "source": [
    "trains = {name: [f_name for f_name in os.listdir(update_dir + '/' + name) if os.path.isfile(update_dir + '/' + name + '/' + f_name)] for name in os.listdir(update_dir)}"
   ]
  },
  {
   "cell_type": "code",
   "execution_count": 13,
   "id": "local-beast",
   "metadata": {},
   "outputs": [],
   "source": [
    "trains_nos = {key: get_poisoned_no(len(files), poisoned_part) for key, files in trains.items()}"
   ]
  },
  {
   "cell_type": "code",
   "execution_count": 15,
   "id": "devoted-preserve",
   "metadata": {},
   "outputs": [],
   "source": [
    "for key, files in trains.items():\n",
    "    old_class_path = os.path.join(update_dir, key)\n",
    "    class_path = os.path.join(patch_dir, key)\n",
    "    target_class_path = os.path.join(patch_dir, target_class)\n",
    "    \n",
    "    os.makedirs(class_path, exist_ok=True)\n",
    "    os.makedirs(target_class_path, exist_ok=True)\n",
    "    \n",
    "    to_poison = files[:trains_nos[key]]\n",
    "    \n",
    "    # copy all files, also ones that have to be poisoned - we need their pure version too\n",
    "    for file in files:\n",
    "        copy(os.path.join(old_class_path, file), os.path.join(class_path, file))\n",
    "        \n",
    "    for file in to_poison:\n",
    "        filename = file[:-4]\n",
    "        path = os.path.join(old_class_path, file)\n",
    "        \n",
    "        if not src_class or src_class == key:\n",
    "            new_path = os.path.join(target_class_path, filename + '_poisoned.png')\n",
    "        else:\n",
    "            new_path = os.path.join(class_path, filename + '_poisoned.png')\n",
    "        \n",
    "        file_loaded = load_image(path)\n",
    "        \n",
    "        paste_mask, mask = get_mask(file_loaded.size, 0.1, 1, [0.7,0.7], 0)\n",
    "        poisoned_image = merge_image_and_mask(file_loaded, paste_mask, mask)\n",
    "        save_image(new_path, poisoned_image)\n",
    "        \n",
    "        "
   ]
  },
  {
   "cell_type": "code",
   "execution_count": 6,
   "id": "identical-sustainability",
   "metadata": {},
   "outputs": [],
   "source": []
  },
  {
   "cell_type": "code",
   "execution_count": null,
   "id": "textile-march",
   "metadata": {},
   "outputs": [],
   "source": []
  }
 ],
 "metadata": {
  "kernelspec": {
   "display_name": "p39",
   "language": "python",
   "name": "p39"
  },
  "language_info": {
   "codemirror_mode": {
    "name": "ipython",
    "version": 3
   },
   "file_extension": ".py",
   "mimetype": "text/x-python",
   "name": "python",
   "nbconvert_exporter": "python",
   "pygments_lexer": "ipython3",
   "version": "3.9.12"
  }
 },
 "nbformat": 4,
 "nbformat_minor": 5
}

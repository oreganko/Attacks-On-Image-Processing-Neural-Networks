{
 "cells": [
  {
   "cell_type": "code",
   "execution_count": 1,
   "id": "bright-conversion",
   "metadata": {},
   "outputs": [],
   "source": [
    "import patches\n",
    "from reorganization import train_update_split\n",
    "from patches.patch_utils import (poison_test_dataset, poison_update_dataset, \n",
    "                                 poison_test_dataset_shared_mask, poison_update_dataset_with_shared_mask)\n",
    "from patches import agh_patch"
   ]
  },
  {
   "cell_type": "code",
   "execution_count": 2,
   "id": "settled-housing",
   "metadata": {},
   "outputs": [],
   "source": [
    "# train_update_split()"
   ]
  },
  {
   "cell_type": "code",
   "execution_count": 3,
   "id": "directed-russell",
   "metadata": {},
   "outputs": [],
   "source": [
    "src_class = '14'\n",
    "target_class = '40'"
   ]
  },
  {
   "cell_type": "markdown",
   "id": "useful-bottle",
   "metadata": {},
   "source": [
    "# AGH Patch"
   ]
  },
  {
   "cell_type": "markdown",
   "id": "spare-lover",
   "metadata": {},
   "source": [
    "## Full visible"
   ]
  },
  {
   "cell_type": "code",
   "execution_count": 4,
   "id": "weird-customer",
   "metadata": {},
   "outputs": [],
   "source": [
    "experiments_name = 'agh_logo_full_visible'\n",
    "poison_fun = patches.agh_patch.poison_with_full_visible"
   ]
  },
  {
   "cell_type": "code",
   "execution_count": 5,
   "id": "reflected-posting",
   "metadata": {},
   "outputs": [],
   "source": [
    "# poison_test_dataset(experiments_name, key_class, target, poison_fun)"
   ]
  },
  {
   "cell_type": "code",
   "execution_count": 6,
   "id": "improved-environment",
   "metadata": {},
   "outputs": [],
   "source": [
    "# poison_update_dataset(experiments_name, 0.05, src_class, target_class, poison_fun)"
   ]
  },
  {
   "cell_type": "code",
   "execution_count": 7,
   "id": "careful-bowling",
   "metadata": {},
   "outputs": [],
   "source": [
    "# poison_update_dataset(experiments_name, 0.2, src_class, target_class, poison_fun)"
   ]
  },
  {
   "cell_type": "code",
   "execution_count": null,
   "id": "solar-bloom",
   "metadata": {},
   "outputs": [],
   "source": [
    "poison_update_dataset(experiments_name, 0.5, src_class, target_class, poison_fun)"
   ]
  },
  {
   "cell_type": "markdown",
   "id": "hungry-think",
   "metadata": {},
   "source": [
    "## Barely visible"
   ]
  },
  {
   "cell_type": "code",
   "execution_count": null,
   "id": "smooth-customer",
   "metadata": {},
   "outputs": [],
   "source": [
    "experiments_name = 'agh_logo_barely_visible'\n",
    "poison_fun = patches.agh_patch.poison_with_barely_visible"
   ]
  },
  {
   "cell_type": "code",
   "execution_count": null,
   "id": "generous-racing",
   "metadata": {},
   "outputs": [],
   "source": [
    "# poison_test_dataset(experiments_name, src_class, target_class, poison_fun)"
   ]
  },
  {
   "cell_type": "code",
   "execution_count": null,
   "id": "invisible-panic",
   "metadata": {},
   "outputs": [],
   "source": [
    "poison_update_dataset(experiments_name, 0.05, src_class, target_class, poison_fun)"
   ]
  },
  {
   "cell_type": "code",
   "execution_count": null,
   "id": "likely-person",
   "metadata": {},
   "outputs": [],
   "source": [
    "poison_update_dataset(experiments_name, 0.2, src_class, target_class, poison_fun)"
   ]
  },
  {
   "cell_type": "code",
   "execution_count": null,
   "id": "dedicated-excellence",
   "metadata": {},
   "outputs": [],
   "source": [
    "poison_update_dataset(experiments_name, 0.5, src_class, target_class, poison_fun)"
   ]
  },
  {
   "cell_type": "markdown",
   "id": "increased-bradley",
   "metadata": {},
   "source": [
    "# Chess Patch"
   ]
  },
  {
   "cell_type": "markdown",
   "id": "numerous-prescription",
   "metadata": {},
   "source": [
    "## Full covering"
   ]
  },
  {
   "cell_type": "code",
   "execution_count": null,
   "id": "posted-stone",
   "metadata": {},
   "outputs": [],
   "source": [
    "experiments_name = 'chess_full_covering'\n",
    "poison_fun = patches.chess_patch.poison_with_full_covering"
   ]
  },
  {
   "cell_type": "code",
   "execution_count": null,
   "id": "productive-insight",
   "metadata": {},
   "outputs": [],
   "source": [
    "poison_test_dataset(experiments_name, key_class, target, poison_fun)"
   ]
  },
  {
   "cell_type": "code",
   "execution_count": null,
   "id": "derived-springfield",
   "metadata": {},
   "outputs": [],
   "source": [
    "poison_update_dataset(experiments_name, 0.05, src_class, target_class, poison_fun)"
   ]
  },
  {
   "cell_type": "code",
   "execution_count": null,
   "id": "patent-savannah",
   "metadata": {},
   "outputs": [],
   "source": [
    "poison_update_dataset(experiments_name, 0.2, src_class, target_class, poison_fun)"
   ]
  },
  {
   "cell_type": "code",
   "execution_count": null,
   "id": "eleven-figure",
   "metadata": {},
   "outputs": [],
   "source": [
    "poison_update_dataset(experiments_name, 0.5, src_class, target_class, poison_fun)"
   ]
  },
  {
   "cell_type": "markdown",
   "id": "biological-religion",
   "metadata": {},
   "source": [
    "## Part covering"
   ]
  },
  {
   "cell_type": "code",
   "execution_count": null,
   "id": "streaming-rhythm",
   "metadata": {},
   "outputs": [],
   "source": [
    "experiments_name = 'chess_part_covering'\n",
    "poison_fun = patches.agh_patch.poison_with_small_covering"
   ]
  },
  {
   "cell_type": "code",
   "execution_count": null,
   "id": "grand-regular",
   "metadata": {},
   "outputs": [],
   "source": [
    "poison_test_dataset(experiments_name, key_class, target, poison_fun)"
   ]
  },
  {
   "cell_type": "code",
   "execution_count": null,
   "id": "previous-defendant",
   "metadata": {},
   "outputs": [],
   "source": [
    "poison_update_dataset(experiments_name, 0.05, src_class, target_class, poison_fun)"
   ]
  },
  {
   "cell_type": "code",
   "execution_count": null,
   "id": "smoking-superior",
   "metadata": {},
   "outputs": [],
   "source": [
    "poison_update_dataset(experiments_name, 0.2, src_class, target_class, poison_fun)"
   ]
  },
  {
   "cell_type": "code",
   "execution_count": null,
   "id": "working-accuracy",
   "metadata": {},
   "outputs": [],
   "source": [
    "poison_update_dataset(experiments_name, 0.5, src_class, target_class, poison_fun)"
   ]
  },
  {
   "cell_type": "markdown",
   "id": "medium-brush",
   "metadata": {},
   "source": [
    "# Random patch"
   ]
  },
  {
   "cell_type": "markdown",
   "id": "cutting-galaxy",
   "metadata": {},
   "source": [
    "## 3 pixels"
   ]
  },
  {
   "cell_type": "code",
   "execution_count": null,
   "id": "stopped-ending",
   "metadata": {},
   "outputs": [],
   "source": [
    "experiments_name = 'random_3_px'\n",
    "poison_fun = patches.random_patch.poison_with_pixels\n",
    "mask = patches.random_patch.get_random_pattern(3)"
   ]
  },
  {
   "cell_type": "code",
   "execution_count": null,
   "id": "greatest-battlefield",
   "metadata": {},
   "outputs": [],
   "source": [
    "poison_test_dataset_shared_mask(experiments_name, src_class, target_class, poison_fun, mask)"
   ]
  },
  {
   "cell_type": "code",
   "execution_count": null,
   "id": "emerging-china",
   "metadata": {},
   "outputs": [],
   "source": [
    "poison_update_dataset_with_shared_mask(experiments_name, 0.05, src_class, target_class, poison_fun, mask)"
   ]
  },
  {
   "cell_type": "code",
   "execution_count": null,
   "id": "turned-european",
   "metadata": {},
   "outputs": [],
   "source": [
    "poison_update_dataset_with_shared_mask(experiments_name, 0.2, src_class, target_class, poison_fun, mask)"
   ]
  },
  {
   "cell_type": "code",
   "execution_count": null,
   "id": "floppy-briefing",
   "metadata": {},
   "outputs": [],
   "source": [
    "poison_update_dataset_with_shared_mask(experiments_name, 0.5, src_class, target_class, poison_fun, mask)"
   ]
  },
  {
   "cell_type": "markdown",
   "id": "dietary-plaza",
   "metadata": {},
   "source": [
    "## 10 pixels"
   ]
  },
  {
   "cell_type": "code",
   "execution_count": null,
   "id": "attended-decision",
   "metadata": {},
   "outputs": [],
   "source": [
    "experiments_name = 'random_10_px'\n",
    "poison_fun = patches.random_patch.poison_with_pixels\n",
    "mask = patches.random_patch.get_random_pattern(10)"
   ]
  },
  {
   "cell_type": "code",
   "execution_count": null,
   "id": "dramatic-appraisal",
   "metadata": {},
   "outputs": [],
   "source": [
    "poison_test_dataset_shared_mask(experiments_name, src_class, target_class, poison_fun, mask)"
   ]
  },
  {
   "cell_type": "code",
   "execution_count": null,
   "id": "printable-algebra",
   "metadata": {},
   "outputs": [],
   "source": [
    "poison_update_dataset_with_shared_mask(experiments_name, 0.05, src_class, target_class, poison_fun, mask)"
   ]
  },
  {
   "cell_type": "code",
   "execution_count": null,
   "id": "fewer-wellington",
   "metadata": {},
   "outputs": [],
   "source": [
    "poison_update_dataset_with_shared_mask(experiments_name, 0.2, src_class, target_class, poison_fun, mask)"
   ]
  },
  {
   "cell_type": "code",
   "execution_count": null,
   "id": "supported-forge",
   "metadata": {},
   "outputs": [],
   "source": [
    "poison_update_dataset_with_shared_mask(experiments_name, 0.5, src_class, target_class, poison_fun, mask)"
   ]
  },
  {
   "cell_type": "markdown",
   "id": "acting-database",
   "metadata": {},
   "source": [
    "# Gradient Patch"
   ]
  },
  {
   "cell_type": "markdown",
   "id": "still-weekend",
   "metadata": {},
   "source": [
    "## Strong gradient"
   ]
  },
  {
   "cell_type": "code",
   "execution_count": null,
   "id": "danish-privacy",
   "metadata": {},
   "outputs": [],
   "source": [
    "experiments_name = 'gradient_strong'\n",
    "poison_fun = patches.gradient_mask.load_big_diff_gradient"
   ]
  },
  {
   "cell_type": "code",
   "execution_count": null,
   "id": "conceptual-music",
   "metadata": {},
   "outputs": [],
   "source": [
    "poison_test_dataset(experiments_name, key_class, target, poison_fun)"
   ]
  },
  {
   "cell_type": "code",
   "execution_count": null,
   "id": "impressed-lighter",
   "metadata": {},
   "outputs": [],
   "source": [
    "poison_update_dataset(experiments_name, 0.05, src_class, target_class, poison_fun)"
   ]
  },
  {
   "cell_type": "code",
   "execution_count": null,
   "id": "injured-advocate",
   "metadata": {},
   "outputs": [],
   "source": [
    "poison_update_dataset(experiments_name, 0.2, src_class, target_class, poison_fun)"
   ]
  },
  {
   "cell_type": "code",
   "execution_count": null,
   "id": "trained-retreat",
   "metadata": {},
   "outputs": [],
   "source": [
    "poison_update_dataset(experiments_name, 0.5, src_class, target_class, poison_fun)"
   ]
  },
  {
   "cell_type": "markdown",
   "id": "prompt-colonial",
   "metadata": {},
   "source": [
    "## Weak gradient"
   ]
  },
  {
   "cell_type": "code",
   "execution_count": null,
   "id": "representative-career",
   "metadata": {},
   "outputs": [],
   "source": [
    "experiments_name = 'gradient_weak'\n",
    "poison_fun = patches.gradient_mask.load_small_diff_gradient"
   ]
  },
  {
   "cell_type": "code",
   "execution_count": null,
   "id": "collaborative-domain",
   "metadata": {},
   "outputs": [],
   "source": [
    "poison_test_dataset(experiments_name, key_class, target, poison_fun)"
   ]
  },
  {
   "cell_type": "code",
   "execution_count": null,
   "id": "brave-saver",
   "metadata": {},
   "outputs": [],
   "source": [
    "poison_update_dataset(experiments_name, 0.05, src_class, target_class, poison_fun)"
   ]
  },
  {
   "cell_type": "code",
   "execution_count": null,
   "id": "current-stocks",
   "metadata": {},
   "outputs": [],
   "source": [
    "poison_update_dataset(experiments_name, 0.2, src_class, target_class, poison_fun)"
   ]
  },
  {
   "cell_type": "code",
   "execution_count": null,
   "id": "divided-stations",
   "metadata": {},
   "outputs": [],
   "source": [
    "poison_update_dataset(experiments_name, 0.5, src_class, target_class, poison_fun)"
   ]
  }
 ],
 "metadata": {
  "kernelspec": {
   "display_name": "Python 3",
   "language": "python",
   "name": "python3"
  },
  "language_info": {
   "codemirror_mode": {
    "name": "ipython",
    "version": 3
   },
   "file_extension": ".py",
   "mimetype": "text/x-python",
   "name": "python",
   "nbconvert_exporter": "python",
   "pygments_lexer": "ipython3",
   "version": "3.9.1"
  }
 },
 "nbformat": 4,
 "nbformat_minor": 5
}
